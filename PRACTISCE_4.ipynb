{
  "nbformat": 4,
  "nbformat_minor": 0,
  "metadata": {
    "colab": {
      "name": "PRACTISCE 4.ipynb",
      "provenance": [],
      "collapsed_sections": [],
      "authorship_tag": "ABX9TyO8Gpfr0HOh1752zWCG9R1h",
      "include_colab_link": true
    },
    "kernelspec": {
      "name": "python3",
      "display_name": "Python 3"
    }
  },
  "cells": [
    {
      "cell_type": "markdown",
      "metadata": {
        "id": "view-in-github",
        "colab_type": "text"
      },
      "source": [
        "<a href=\"https://colab.research.google.com/github/jeysasibalaji/PracticeProblems/blob/master/PRACTISCE_4.ipynb\" target=\"_parent\"><img src=\"https://colab.research.google.com/assets/colab-badge.svg\" alt=\"Open In Colab\"/></a>"
      ]
    },
    {
      "cell_type": "code",
      "metadata": {
        "id": "3VI9LPT4NLlf",
        "colab_type": "code",
        "colab": {}
      },
      "source": [
        ""
      ],
      "execution_count": 0,
      "outputs": []
    },
    {
      "cell_type": "markdown",
      "metadata": {
        "id": "Qkq-w0bcNsfS",
        "colab_type": "text"
      },
      "source": [
        "## FILE HANDLING"
      ]
    },
    {
      "cell_type": "code",
      "metadata": {
        "id": "6anQR-smNyEm",
        "colab_type": "code",
        "colab": {}
      },
      "source": [
        "  file = open('chem.txt','w')\n",
        "  file.write('its an chemistry hurray')\n",
        "  file.close()"
      ],
      "execution_count": 0,
      "outputs": []
    },
    {
      "cell_type": "code",
      "metadata": {
        "id": "yrvGu04oOOyi",
        "colab_type": "code",
        "outputId": "d8d5fe2f-a8bb-4d78-8aaa-5e03ab1d70c3",
        "colab": {
          "base_uri": "https://localhost:8080/",
          "height": 34
        }
      },
      "source": [
        "file = open('chem.txt','r')\n",
        "text = file.read()\n",
        "print(text)\n",
        "file.close()"
      ],
      "execution_count": 0,
      "outputs": [
        {
          "output_type": "stream",
          "text": [
            "its an chemistry hurray\n"
          ],
          "name": "stdout"
        }
      ]
    },
    {
      "cell_type": "code",
      "metadata": {
        "id": "KiRyoB0aPCLk",
        "colab_type": "code",
        "colab": {}
      },
      "source": [
        "file = open('chem.txt','a')\n",
        "file.write('\\n its a branch of science')\n",
        "file.close()"
      ],
      "execution_count": 0,
      "outputs": []
    },
    {
      "cell_type": "code",
      "metadata": {
        "id": "LbHHNiWoPigI",
        "colab_type": "code",
        "outputId": "ece7955e-9d99-44ef-ab62-65f98458d7e7",
        "colab": {
          "base_uri": "https://localhost:8080/",
          "height": 51
        }
      },
      "source": [
        "file = open('chem.txt','r')\n",
        "print(file.read())\n",
        "file.close()\n",
        " "
      ],
      "execution_count": 0,
      "outputs": [
        {
          "output_type": "stream",
          "text": [
            "its an chemistry hurray\n",
            " its a branch of science\n"
          ],
          "name": "stdout"
        }
      ]
    },
    {
      "cell_type": "code",
      "metadata": {
        "id": "zUTgvvUZWcSC",
        "colab_type": "code",
        "colab": {}
      },
      "source": [
        ""
      ],
      "execution_count": 0,
      "outputs": []
    },
    {
      "cell_type": "markdown",
      "metadata": {
        "id": "iGHNSJsGWc6U",
        "colab_type": "text"
      },
      "source": [
        "## map filterr and lambda exp"
      ]
    },
    {
      "cell_type": "code",
      "metadata": {
        "id": "qOYSUTX9Wipx",
        "colab_type": "code",
        "colab": {}
      },
      "source": [
        "lst = [2,3,4,5,6,7,8,9,12,14,16,18,20]\n",
        "lst_cube = []\n",
        "for i in lst:\n",
        "  lst_cube.append(i*i*i)"
      ],
      "execution_count": 0,
      "outputs": []
    },
    {
      "cell_type": "code",
      "metadata": {
        "id": "XpMAN14OW-G2",
        "colab_type": "code",
        "outputId": "6647cf1a-6715-4ac7-eea6-0c133d74c67c",
        "colab": {
          "base_uri": "https://localhost:8080/",
          "height": 51
        }
      },
      "source": [
        "print(lst)\n",
        "print(lst_cube)"
      ],
      "execution_count": 0,
      "outputs": [
        {
          "output_type": "stream",
          "text": [
            "[2, 3, 4, 5, 6, 7, 8, 9, 12, 14, 16, 18, 20]\n",
            "[8, 27, 64, 125, 216, 343, 512, 729, 1728, 2744, 4096, 5832, 8000]\n"
          ],
          "name": "stdout"
        }
      ]
    },
    {
      "cell_type": "code",
      "metadata": {
        "id": "FfC3RPNYXI0P",
        "colab_type": "code",
        "colab": {}
      },
      "source": [
        "def cube(i):\n",
        "  return i*i*i"
      ],
      "execution_count": 0,
      "outputs": []
    },
    {
      "cell_type": "code",
      "metadata": {
        "id": "bcPu7kw8XSv6",
        "colab_type": "code",
        "outputId": "42d193aa-0a4c-4801-8f84-153abb1c75ab",
        "colab": {
          "base_uri": "https://localhost:8080/",
          "height": 34
        }
      },
      "source": [
        "cube(926389544564684684654684)"
      ],
      "execution_count": 0,
      "outputs": [
        {
          "output_type": "execute_result",
          "data": {
            "text/plain": [
              "795025272952074879237923435424806215248909660179331274014512351997485504"
            ]
          },
          "metadata": {
            "tags": []
          },
          "execution_count": 19
        }
      ]
    },
    {
      "cell_type": "code",
      "metadata": {
        "id": "PXvleArYXhtN",
        "colab_type": "code",
        "colab": {}
      },
      "source": [
        "lst_new = map(cube,lst)"
      ],
      "execution_count": 0,
      "outputs": []
    },
    {
      "cell_type": "code",
      "metadata": {
        "id": "_ye76Z40X3_a",
        "colab_type": "code",
        "outputId": "dafee76a-67ba-45a3-91dd-885e0928e2e6",
        "colab": {
          "base_uri": "https://localhost:8080/",
          "height": 34
        }
      },
      "source": [
        "list(lst_new)"
      ],
      "execution_count": 0,
      "outputs": [
        {
          "output_type": "execute_result",
          "data": {
            "text/plain": [
              "[]"
            ]
          },
          "metadata": {
            "tags": []
          },
          "execution_count": 23
        }
      ]
    },
    {
      "cell_type": "code",
      "metadata": {
        "id": "vBkT8LeuX-Og",
        "colab_type": "code",
        "colab": {}
      },
      "source": [
        "lst = list(range(1,101))"
      ],
      "execution_count": 0,
      "outputs": []
    },
    {
      "cell_type": "code",
      "metadata": {
        "id": "kZ8KX4PzYEWs",
        "colab_type": "code",
        "colab": {}
      },
      "source": [
        "lst"
      ],
      "execution_count": 0,
      "outputs": []
    },
    {
      "cell_type": "code",
      "metadata": {
        "id": "535e2nzgYLhe",
        "colab_type": "code",
        "colab": {}
      },
      "source": [
        "def odd(n):\n",
        "   return n%2 !=0"
      ],
      "execution_count": 0,
      "outputs": []
    },
    {
      "cell_type": "code",
      "metadata": {
        "id": "Vh_EPhh6Y2t-",
        "colab_type": "code",
        "outputId": "49bba6c9-e0c1-4c8d-e488-af345d9f7fc3",
        "colab": {
          "base_uri": "https://localhost:8080/",
          "height": 34
        }
      },
      "source": [
        "odd(2)"
      ],
      "execution_count": 0,
      "outputs": [
        {
          "output_type": "execute_result",
          "data": {
            "text/plain": [
              "False"
            ]
          },
          "metadata": {
            "tags": []
          },
          "execution_count": 43
        }
      ]
    },
    {
      "cell_type": "code",
      "metadata": {
        "id": "SjiVp_v9Y5IT",
        "colab_type": "code",
        "colab": {
          "base_uri": "https://localhost:8080/",
          "height": 54
        },
        "outputId": "f3a70142-05c1-4bef-b052-e648481be746"
      },
      "source": [
        "flst = list(range(1,101))\n",
        "print(flst) "
      ],
      "execution_count": 3,
      "outputs": [
        {
          "output_type": "stream",
          "text": [
            "[1, 2, 3, 4, 5, 6, 7, 8, 9, 10, 11, 12, 13, 14, 15, 16, 17, 18, 19, 20, 21, 22, 23, 24, 25, 26, 27, 28, 29, 30, 31, 32, 33, 34, 35, 36, 37, 38, 39, 40, 41, 42, 43, 44, 45, 46, 47, 48, 49, 50, 51, 52, 53, 54, 55, 56, 57, 58, 59, 60, 61, 62, 63, 64, 65, 66, 67, 68, 69, 70, 71, 72, 73, 74, 75, 76, 77, 78, 79, 80, 81, 82, 83, 84, 85, 86, 87, 88, 89, 90, 91, 92, 93, 94, 95, 96, 97, 98, 99, 100]\n"
          ],
          "name": "stdout"
        }
      ]
    },
    {
      "cell_type": "code",
      "metadata": {
        "id": "QIqCMWy7T_hY",
        "colab_type": "code",
        "colab": {}
      },
      "source": [
        "\n",
        "def isOdd(num):\n",
        "    return num %2 != 0"
      ],
      "execution_count": 0,
      "outputs": []
    },
    {
      "cell_type": "code",
      "metadata": {
        "id": "ePFOkp8UTfq4",
        "colab_type": "code",
        "colab": {}
      },
      "source": [
        "flst_1 = []\n",
        "\n",
        "for i in flst:\n",
        "    if isOdd(i):\n",
        "        flst_1.append(i)\n",
        "        "
      ],
      "execution_count": 0,
      "outputs": []
    },
    {
      "cell_type": "code",
      "metadata": {
        "id": "5D_yZotYULb9",
        "colab_type": "code",
        "colab": {}
      },
      "source": [
        "flst_2 = filter(isOdd,flst)"
      ],
      "execution_count": 0,
      "outputs": []
    },
    {
      "cell_type": "code",
      "metadata": {
        "id": "X7uNkortUMTQ",
        "colab_type": "code",
        "colab": {}
      },
      "source": [
        "list(flst_1)"
      ],
      "execution_count": 0,
      "outputs": []
    },
    {
      "cell_type": "code",
      "metadata": {
        "id": "wtam0SsMUWgN",
        "colab_type": "code",
        "colab": {}
      },
      "source": [
        "def  poweroffive(n):\n",
        "   return n**5"
      ],
      "execution_count": 0,
      "outputs": []
    },
    {
      "cell_type": "code",
      "metadata": {
        "id": "_iTkp9SOU36Q",
        "colab_type": "code",
        "colab": {
          "base_uri": "https://localhost:8080/",
          "height": 34
        },
        "outputId": "2c442422-77c3-4eff-fe13-61388218ed19"
      },
      "source": [
        "poweroffive(9)"
      ],
      "execution_count": 19,
      "outputs": [
        {
          "output_type": "execute_result",
          "data": {
            "text/plain": [
              "59049"
            ]
          },
          "metadata": {
            "tags": []
          },
          "execution_count": 19
        }
      ]
    },
    {
      "cell_type": "code",
      "metadata": {
        "id": "QD-BF2iEU_cD",
        "colab_type": "code",
        "colab": {}
      },
      "source": [
        "cube= lambda i:i*i*i"
      ],
      "execution_count": 0,
      "outputs": []
    },
    {
      "cell_type": "code",
      "metadata": {
        "id": "Sqz4cwEGWCZX",
        "colab_type": "code",
        "colab": {}
      },
      "source": [
        "lst = list(range(1,91))"
      ],
      "execution_count": 0,
      "outputs": []
    },
    {
      "cell_type": "code",
      "metadata": {
        "id": "b8eW6JjJVZKH",
        "colab_type": "code",
        "colab": {}
      },
      "source": [
        "lst_new = map(cube,lst)\n"
      ],
      "execution_count": 0,
      "outputs": []
    },
    {
      "cell_type": "code",
      "metadata": {
        "id": "rhYu_KKkVkxG",
        "colab_type": "code",
        "colab": {}
      },
      "source": [
        "list(lst_new)"
      ],
      "execution_count": 0,
      "outputs": []
    }
  ]
}