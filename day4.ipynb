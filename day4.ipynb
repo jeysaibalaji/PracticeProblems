{
  "nbformat": 4,
  "nbformat_minor": 0,
  "metadata": {
    "colab": {
      "name": "day4.ipynb",
      "provenance": [],
      "collapsed_sections": [],
      "authorship_tag": "ABX9TyO7PPTmRq1YAdeQqfqKKIq4",
      "include_colab_link": true
    },
    "kernelspec": {
      "name": "python3",
      "display_name": "Python 3"
    }
  },
  "cells": [
    {
      "cell_type": "markdown",
      "metadata": {
        "id": "view-in-github",
        "colab_type": "text"
      },
      "source": [
        "<a href=\"https://colab.research.google.com/github/jeysasibalaji/PracticeProblems/blob/master/day4.ipynb\" target=\"_parent\"><img src=\"https://colab.research.google.com/assets/colab-badge.svg\" alt=\"Open In Colab\"/></a>"
      ]
    },
    {
      "cell_type": "code",
      "metadata": {
        "id": "iEAPdyJzBFtn",
        "colab_type": "code",
        "colab": {}
      },
      "source": [
        ""
      ],
      "execution_count": 0,
      "outputs": []
    },
    {
      "cell_type": "markdown",
      "metadata": {
        "id": "ePxDO7qeBLhk",
        "colab_type": "text"
      },
      "source": [
        "## Assingment 1"
      ]
    },
    {
      "cell_type": "code",
      "metadata": {
        "id": "J3x84xrLBQYR",
        "colab_type": "code",
        "colab": {
          "base_uri": "https://localhost:8080/",
          "height": 34
        },
        "outputId": "1718ed0f-ac5d-46dc-8f54-738eb1a1052a"
      },
      "source": [
        "listy = [1,2,3,6,4,5,1,6,9]\n",
        "sub_list = [1,1,5]\n",
        "for item in  listy:\n",
        "     if item == sub_list[0]:\n",
        "         sub_list.pop(0)\n",
        "if len(sub_list )== 0:\n",
        "  print('its a match')\n",
        "else:\n",
        "  print('its gone')    "
      ],
      "execution_count": 12,
      "outputs": [
        {
          "output_type": "stream",
          "text": [
            "its gone\n"
          ],
          "name": "stdout"
        }
      ]
    },
    {
      "cell_type": "code",
      "metadata": {
        "id": "WnXN3EDZHjop",
        "colab_type": "code",
        "colab": {}
      },
      "source": [
        ""
      ],
      "execution_count": 0,
      "outputs": []
    },
    {
      "cell_type": "markdown",
      "metadata": {
        "id": "gevUxFX6HkwZ",
        "colab_type": "text"
      },
      "source": [
        "## Assingment 2"
      ]
    },
    {
      "cell_type": "code",
      "metadata": {
        "id": "8PZTwLtSHomk",
        "colab_type": "code",
        "colab": {}
      },
      "source": [
        "def cal(n1,n2,op):\n",
        "  if op == '+':\n",
        "    return n1+n2\n",
        "  elif op == '-':\n",
        "    return n1-n2\n",
        "  elif op== '/':\n",
        "    return n1/n2\n",
        "  elif op == '*':\n",
        "    return n1*n2\n",
        "  else:\n",
        "    print(\"give proper operator + - * / \") \n"
      ],
      "execution_count": 0,
      "outputs": []
    },
    {
      "cell_type": "code",
      "metadata": {
        "id": "KTNWe7OBIsC1",
        "colab_type": "code",
        "colab": {
          "base_uri": "https://localhost:8080/",
          "height": 34
        },
        "outputId": "b116a10b-7b79-413e-bd73-55c01c14d5f0"
      },
      "source": [
        "cal(99,8,'-')"
      ],
      "execution_count": 21,
      "outputs": [
        {
          "output_type": "execute_result",
          "data": {
            "text/plain": [
              "91"
            ]
          },
          "metadata": {
            "tags": []
          },
          "execution_count": 21
        }
      ]
    },
    {
      "cell_type": "code",
      "metadata": {
        "id": "KgzYo9BmI_gs",
        "colab_type": "code",
        "colab": {}
      },
      "source": [
        ""
      ],
      "execution_count": 0,
      "outputs": []
    }
  ]
}