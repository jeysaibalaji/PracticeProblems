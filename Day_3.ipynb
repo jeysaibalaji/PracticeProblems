{
  "nbformat": 4,
  "nbformat_minor": 0,
  "metadata": {
    "colab": {
      "name": "Day_3.ipynb",
      "provenance": [],
      "collapsed_sections": [],
      "authorship_tag": "ABX9TyMau8V54Op4IcokRCTkIVuz",
      "include_colab_link": true
    },
    "kernelspec": {
      "name": "python3",
      "display_name": "Python 3"
    }
  },
  "cells": [
    {
      "cell_type": "markdown",
      "metadata": {
        "id": "view-in-github",
        "colab_type": "text"
      },
      "source": [
        "<a href=\"https://colab.research.google.com/github/jeysasibalaji/PracticeProblems/blob/master/Day_3.ipynb\" target=\"_parent\"><img src=\"https://colab.research.google.com/assets/colab-badge.svg\" alt=\"Open In Colab\"/></a>"
      ]
    },
    {
      "cell_type": "markdown",
      "metadata": {
        "id": "ovu3m_CyNSSz",
        "colab_type": "text"
      },
      "source": [
        "# Assingment  1"
      ]
    },
    {
      "cell_type": "code",
      "metadata": {
        "id": "YoIaJu39NVWG",
        "colab_type": "code",
        "colab": {}
      },
      "source": [
        "marks =int(input('enter your marks'))\n",
        "print('|---------|')\n",
        "if(marks > 100):\n",
        "  print('|marks cannot be above 100|')\n",
        "\n",
        "elif(marks >= 90 and marks <= 100):\n",
        "   print('|    A    |')\n",
        "elif(marks>=80 and marks <=89):\n",
        "   print('|   B     |')\n",
        "elif(marks > 70 and marks <=79):\n",
        "   print('|    C    |')\n",
        "elif(marks >60 and marks <=69 ):\n",
        "   print('|     D   |')\n",
        "elif(marks >=50 and marks <= 59):\n",
        "   print('|     E   |')\n",
        "else:\n",
        "   print('| FAILED  |')\n",
        "   \n",
        "print('|---------|')"
      ],
      "execution_count": 0,
      "outputs": []
    },
    {
      "cell_type": "markdown",
      "metadata": {
        "id": "zL9Xev0OVpKG",
        "colab_type": "text"
      },
      "source": [
        "#Assingment 2"
      ]
    },
    {
      "cell_type": "code",
      "metadata": {
        "id": "vyyL_PeiVyG8",
        "colab_type": "code",
        "outputId": "20af6723-59e4-46b4-8a64-dc9400831ec6",
        "colab": {
          "base_uri": "https://localhost:8080/",
          "height": 68
        }
      },
      "source": [
        "from random import randint\n",
        "computer_score = randint(1,250)\n",
        "print('computer generated score for Team india 20-20 =',  computer_score)\n",
        "\n",
        "user = int(input('enter your guess score'))\n",
        "\n",
        "dif=abs(user - computer_score)\n",
        "if(dif<=10 and dif >=1):\n",
        "   print('Close by, you are True Indian Fan!')\n",
        "else:\n",
        "   print(\"You don't watch that much! :\")\n",
        "\n",
        "    "
      ],
      "execution_count": 9,
      "outputs": [
        {
          "output_type": "stream",
          "text": [
            "computer generated score for Team india 20-20 = 235\n",
            "enter your guess score22\n",
            "You don't watch that much! :\n"
          ],
          "name": "stdout"
        }
      ]
    },
    {
      "cell_type": "markdown",
      "metadata": {
        "id": "x2RMRFf1lDXs",
        "colab_type": "text"
      },
      "source": [
        "## **Assingment 3**"
      ]
    },
    {
      "cell_type": "code",
      "metadata": {
        "id": "sWQT5zo4lKHi",
        "colab_type": "code",
        "outputId": "99fb094e-4532-4c23-b158-ba06b59026d3",
        "colab": {
          "base_uri": "https://localhost:8080/",
          "height": 102
        }
      },
      "source": [
        "l=int(input('enter the lenght of the photo'))\n",
        "n = int(input('enter number phots to be uploaded'))\n",
        "\n",
        "h = int(input(\"Enter ur Height of photo ?\"))\n",
        "w = int(input(\"Enter ur Width of the photo ?\"))\n",
        "\n",
        "if(h<l and w<l):\n",
        "   print('upload another')\n",
        "elif(h>=l and w>=l):\n",
        "  if(h==w):\n",
        "    print('ACCEPTED')\n",
        "  else:\n",
        "    print('CROP IT')\n",
        "else:\n",
        "  print('the minimum photo size should be =', l )"
      ],
      "execution_count": 0,
      "outputs": [
        {
          "output_type": "stream",
          "text": [
            "enter the lenght of the photo100\n",
            "enter number phots to be uploaded3\n",
            "Enter ur Height of photo ?36\n",
            "Enter ur Width of the photo ?36\n",
            "upload another\n"
          ],
          "name": "stdout"
        }
      ]
    },
    {
      "cell_type": "markdown",
      "metadata": {
        "id": "n9xP13Kloq1T",
        "colab_type": "text"
      },
      "source": [
        "# **Assingment** **4**"
      ]
    },
    {
      "cell_type": "code",
      "metadata": {
        "id": "zDpT2O7MozQj",
        "colab_type": "code",
        "colab": {}
      },
      "source": [
        "ankitx = o\n",
        "ankity =  0\n",
        "command = ('give the command(l,r,u,d) to ankit to move')\n",
        "command = command.lower()\n",
        "if(command== 'l'):\n",
        "    ankitx +=-1\n",
        "elif(command == 'r'):\n",
        "      ankitx += +1\n",
        "elif(command=='u'):\n",
        "      ankity+=1\n",
        "elif(command=='d'):\n",
        "      ankity -=1\n",
        "else:\n",
        "  print('pleasegive the right command')\n",
        "\n",
        "print('ankit is at=',ankitx,ankity)  "
      ],
      "execution_count": 0,
      "outputs": []
    }
  ]
}