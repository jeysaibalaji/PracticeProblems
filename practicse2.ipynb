{
  "nbformat": 4,
  "nbformat_minor": 0,
  "metadata": {
    "colab": {
      "name": "practicse2.ipynb",
      "provenance": [],
      "authorship_tag": "ABX9TyPF+u1WTSVy1nfqCCoEXZAw",
      "include_colab_link": true
    },
    "kernelspec": {
      "name": "python3",
      "display_name": "Python 3"
    }
  },
  "cells": [
    {
      "cell_type": "markdown",
      "metadata": {
        "id": "view-in-github",
        "colab_type": "text"
      },
      "source": [
        "<a href=\"https://colab.research.google.com/github/jeysasibalaji/PracticeProblems/blob/master/practicse2.ipynb\" target=\"_parent\"><img src=\"https://colab.research.google.com/assets/colab-badge.svg\" alt=\"Open In Colab\"/></a>"
      ]
    },
    {
      "cell_type": "code",
      "metadata": {
        "id": "wqSsZgT2tDcJ",
        "colab_type": "code",
        "colab": {}
      },
      "source": [
        "def hi(name):\n",
        "   \n",
        "   print('--------')\n",
        "   print('hi king',name)\n",
        "   print('_____')\n",
        "   print('bye')"
      ],
      "execution_count": 0,
      "outputs": []
    },
    {
      "cell_type": "code",
      "metadata": {
        "id": "10WLY16Tta8L",
        "colab_type": "code",
        "outputId": "323a828a-3185-46e1-9ab5-b25f9048be85",
        "colab": {
          "base_uri": "https://localhost:8080/",
          "height": 85
        }
      },
      "source": [
        "hi('saloman')"
      ],
      "execution_count": 0,
      "outputs": [
        {
          "output_type": "stream",
          "text": [
            "--------\n",
            "hi king saloman\n",
            "_____\n",
            "bye\n"
          ],
          "name": "stdout"
        }
      ]
    },
    {
      "cell_type": "code",
      "metadata": {
        "id": "YB75uSJswb0H",
        "colab_type": "code",
        "colab": {}
      },
      "source": [
        "lst = ['j','k','l']"
      ],
      "execution_count": 0,
      "outputs": []
    },
    {
      "cell_type": "code",
      "metadata": {
        "id": "eRhbgyPtwjzJ",
        "colab_type": "code",
        "outputId": "390ba285-85c1-4814-fa82-0e7a1b67a19e",
        "colab": {
          "base_uri": "https://localhost:8080/",
          "height": 221
        }
      },
      "source": [
        "for item in lst:\n",
        "  hi(item)"
      ],
      "execution_count": 0,
      "outputs": [
        {
          "output_type": "stream",
          "text": [
            "--------\n",
            "hi king k\n",
            "_____\n",
            "bye\n",
            "--------\n",
            "hi king j\n",
            "_____\n",
            "bye\n",
            "--------\n",
            "hi king l\n",
            "_____\n",
            "bye\n"
          ],
          "name": "stdout"
        }
      ]
    },
    {
      "cell_type": "code",
      "metadata": {
        "id": "QHQ6e0A7w-Q4",
        "colab_type": "code",
        "colab": {}
      },
      "source": [
        "def add2no(n1,n2):\n",
        "  add = n1+n2\n",
        "  return add"
      ],
      "execution_count": 0,
      "outputs": []
    },
    {
      "cell_type": "code",
      "metadata": {
        "id": "qO-ycpjzxjFR",
        "colab_type": "code",
        "outputId": "d1d1e22f-0b58-4cf9-e3a0-e40461b0948a",
        "colab": {
          "base_uri": "https://localhost:8080/",
          "height": 34
        }
      },
      "source": [
        "add2no(1,9.9)"
      ],
      "execution_count": 0,
      "outputs": [
        {
          "output_type": "execute_result",
          "data": {
            "text/plain": [
              "10.9"
            ]
          },
          "metadata": {
            "tags": []
          },
          "execution_count": 27
        }
      ]
    },
    {
      "cell_type": "code",
      "metadata": {
        "id": "zkgz8sU_xrTF",
        "colab_type": "code",
        "colab": {}
      },
      "source": [
        "addition = add2no(155659588,456654564)"
      ],
      "execution_count": 0,
      "outputs": []
    },
    {
      "cell_type": "code",
      "metadata": {
        "id": "bUM08nizx-F1",
        "colab_type": "code",
        "outputId": "caf70ed8-54d4-43dd-e753-d3ca7e883ae9",
        "colab": {
          "base_uri": "https://localhost:8080/",
          "height": 34
        }
      },
      "source": [
        "addition"
      ],
      "execution_count": 0,
      "outputs": [
        {
          "output_type": "execute_result",
          "data": {
            "text/plain": [
              "612314152"
            ]
          },
          "metadata": {
            "tags": []
          },
          "execution_count": 31
        }
      ]
    },
    {
      "cell_type": "code",
      "metadata": {
        "id": "A-uPgKu2yEom",
        "colab_type": "code",
        "colab": {}
      },
      "source": [
        "def power(n):\n",
        "   e= n*n*n*n\n",
        "   return e"
      ],
      "execution_count": 0,
      "outputs": []
    },
    {
      "cell_type": "code",
      "metadata": {
        "id": "XHjBgmBQzozM",
        "colab_type": "code",
        "outputId": "9dd523eb-ff4b-4374-8bd6-5fe67f444e8c",
        "colab": {
          "base_uri": "https://localhost:8080/",
          "height": 34
        }
      },
      "source": [
        "power(2)"
      ],
      "execution_count": 0,
      "outputs": [
        {
          "output_type": "execute_result",
          "data": {
            "text/plain": [
              "16"
            ]
          },
          "metadata": {
            "tags": []
          },
          "execution_count": 39
        }
      ]
    },
    {
      "cell_type": "code",
      "metadata": {
        "id": "Ilntom0uz37h",
        "colab_type": "code",
        "colab": {}
      },
      "source": [
        ""
      ],
      "execution_count": 0,
      "outputs": []
    },
    {
      "cell_type": "markdown",
      "metadata": {
        "id": "pxPJQYnx07UI",
        "colab_type": "text"
      },
      "source": [
        "## args"
      ]
    },
    {
      "cell_type": "code",
      "metadata": {
        "id": "dgie8cYd0__n",
        "colab_type": "code",
        "colab": {}
      },
      "source": [
        "def calc(*args):\n",
        "    add=0\n",
        "    for item in args:\n",
        "        add=add+item\n",
        "    return add"
      ],
      "execution_count": 0,
      "outputs": []
    },
    {
      "cell_type": "code",
      "metadata": {
        "id": "BSlcBtCB158w",
        "colab_type": "code",
        "outputId": "6654b793-9ce2-4c78-e9a0-f65a53d42d84",
        "colab": {
          "base_uri": "https://localhost:8080/",
          "height": 34
        }
      },
      "source": [
        "calc(1,2,3,6,4,7,4,85,9,5,8,585)"
      ],
      "execution_count": 0,
      "outputs": [
        {
          "output_type": "execute_result",
          "data": {
            "text/plain": [
              "719"
            ]
          },
          "metadata": {
            "tags": []
          },
          "execution_count": 48
        }
      ]
    },
    {
      "cell_type": "code",
      "metadata": {
        "id": "fB8mX0FU2F1R",
        "colab_type": "code",
        "colab": {}
      },
      "source": [
        "def student(**kwargs):\n",
        "    for key,values in kwargs.items():\n",
        "      print(key, '-', values )\n"
      ],
      "execution_count": 0,
      "outputs": []
    },
    {
      "cell_type": "code",
      "metadata": {
        "id": "FmHrCujV25TD",
        "colab_type": "code",
        "outputId": "00f9ef28-54e7-4048-95ee-a884fb6bfdef",
        "colab": {
          "base_uri": "https://localhost:8080/",
          "height": 51
        }
      },
      "source": [
        "\n",
        "student(id ='kkk',roll ='23')"
      ],
      "execution_count": 82,
      "outputs": [
        {
          "output_type": "stream",
          "text": [
            "id - kkk\n",
            "roll - 23\n"
          ],
          "name": "stdout"
        }
      ]
    }
  ]
}